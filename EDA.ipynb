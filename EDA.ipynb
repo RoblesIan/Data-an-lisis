{
 "cells": [
  {
   "cell_type": "code",
   "execution_count": 90,
   "metadata": {},
   "outputs": [],
   "source": [
    "# imports\n",
    "import pandas as pd\n",
    "import numpy as np\n",
    "import funciones as f\n",
    "from geopy.geocoders import Nominatim\n",
    "\n",
    "# rutas\n",
    "homicidios_xlsx = 'data/homicidios.xlsx'\n",
    "lesiones_xslx = 'data/lesiones.xlsx'"
   ]
  },
  {
   "cell_type": "markdown",
   "metadata": {},
   "source": [
    "1. Lectura de datos"
   ]
  },
  {
   "cell_type": "code",
   "execution_count": 91,
   "metadata": {},
   "outputs": [],
   "source": [
    "# Creamos un DataFrame para la hoja hechos del excel homicidios\n",
    "df_homicidios_hechos = pd.read_excel(homicidios_xlsx, sheet_name='HECHOS')\n"
   ]
  },
  {
   "cell_type": "code",
   "execution_count": 92,
   "metadata": {},
   "outputs": [
    {
     "name": "stdout",
     "output_type": "stream",
     "text": [
      "<class 'pandas.core.frame.DataFrame'>\n",
      "RangeIndex: 696 entries, 0 to 695\n",
      "Data columns (total 21 columns):\n",
      " #   Column                 Non-Null Count  Dtype         \n",
      "---  ------                 --------------  -----         \n",
      " 0   ID                     696 non-null    object        \n",
      " 1   N_VICTIMAS             696 non-null    int64         \n",
      " 2   FECHA                  696 non-null    datetime64[ns]\n",
      " 3   AAAA                   696 non-null    int64         \n",
      " 4   MM                     696 non-null    int64         \n",
      " 5   DD                     696 non-null    int64         \n",
      " 6   HORA                   696 non-null    object        \n",
      " 7   HH                     696 non-null    object        \n",
      " 8   LUGAR_DEL_HECHO        696 non-null    object        \n",
      " 9   TIPO_DE_CALLE          696 non-null    object        \n",
      " 10  Calle                  695 non-null    object        \n",
      " 11  Altura                 129 non-null    float64       \n",
      " 12  Cruce                  525 non-null    object        \n",
      " 13  Dirección Normalizada  688 non-null    object        \n",
      " 14  COMUNA                 696 non-null    int64         \n",
      " 15  XY (CABA)              696 non-null    object        \n",
      " 16  pos x                  696 non-null    object        \n",
      " 17  pos y                  696 non-null    object        \n",
      " 18  PARTICIPANTES          696 non-null    object        \n",
      " 19  VICTIMA                696 non-null    object        \n",
      " 20  ACUSADO                696 non-null    object        \n",
      "dtypes: datetime64[ns](1), float64(1), int64(5), object(14)\n",
      "memory usage: 114.3+ KB\n"
     ]
    }
   ],
   "source": [
    "df_homicidios_hechos.info()"
   ]
  },
  {
   "cell_type": "code",
   "execution_count": 93,
   "metadata": {},
   "outputs": [
    {
     "data": {
      "text/html": [
       "<div>\n",
       "<style scoped>\n",
       "    .dataframe tbody tr th:only-of-type {\n",
       "        vertical-align: middle;\n",
       "    }\n",
       "\n",
       "    .dataframe tbody tr th {\n",
       "        vertical-align: top;\n",
       "    }\n",
       "\n",
       "    .dataframe thead th {\n",
       "        text-align: right;\n",
       "    }\n",
       "</style>\n",
       "<table border=\"1\" class=\"dataframe\">\n",
       "  <thead>\n",
       "    <tr style=\"text-align: right;\">\n",
       "      <th></th>\n",
       "      <th>ID</th>\n",
       "      <th>N_VICTIMAS</th>\n",
       "      <th>FECHA</th>\n",
       "      <th>AAAA</th>\n",
       "      <th>MM</th>\n",
       "      <th>DD</th>\n",
       "      <th>HORA</th>\n",
       "      <th>HH</th>\n",
       "      <th>LUGAR_DEL_HECHO</th>\n",
       "      <th>TIPO_DE_CALLE</th>\n",
       "      <th>Calle</th>\n",
       "      <th>Altura</th>\n",
       "      <th>Cruce</th>\n",
       "      <th>Dirección Normalizada</th>\n",
       "      <th>COMUNA</th>\n",
       "      <th>XY (CABA)</th>\n",
       "      <th>pos x</th>\n",
       "      <th>pos y</th>\n",
       "      <th>PARTICIPANTES</th>\n",
       "      <th>VICTIMA</th>\n",
       "      <th>ACUSADO</th>\n",
       "    </tr>\n",
       "  </thead>\n",
       "  <tbody>\n",
       "    <tr>\n",
       "      <th>0</th>\n",
       "      <td>2016-0001</td>\n",
       "      <td>1</td>\n",
       "      <td>2016-01-01</td>\n",
       "      <td>2016</td>\n",
       "      <td>1</td>\n",
       "      <td>1</td>\n",
       "      <td>04:00:00</td>\n",
       "      <td>4</td>\n",
       "      <td>AV PIEDRA BUENA Y AV FERNANDEZ DE LA CRUZ</td>\n",
       "      <td>AVENIDA</td>\n",
       "      <td>PIEDRA BUENA AV.</td>\n",
       "      <td>NaN</td>\n",
       "      <td>FERNANDEZ DE LA CRUZ, F., GRAL. AV.</td>\n",
       "      <td>PIEDRA BUENA AV. y FERNANDEZ DE LA CRUZ, F., G...</td>\n",
       "      <td>8</td>\n",
       "      <td>Point (98896.78238426 93532.43437792)</td>\n",
       "      <td>-58.47533969</td>\n",
       "      <td>-34.68757022</td>\n",
       "      <td>MOTO-AUTO</td>\n",
       "      <td>MOTO</td>\n",
       "      <td>AUTO</td>\n",
       "    </tr>\n",
       "    <tr>\n",
       "      <th>1</th>\n",
       "      <td>2016-0002</td>\n",
       "      <td>1</td>\n",
       "      <td>2016-01-02</td>\n",
       "      <td>2016</td>\n",
       "      <td>1</td>\n",
       "      <td>2</td>\n",
       "      <td>01:15:00</td>\n",
       "      <td>1</td>\n",
       "      <td>AV GRAL PAZ  Y AV DE LOS CORRALES</td>\n",
       "      <td>GRAL PAZ</td>\n",
       "      <td>PAZ, GRAL. AV.</td>\n",
       "      <td>NaN</td>\n",
       "      <td>DE LOS CORRALES AV.</td>\n",
       "      <td>PAZ, GRAL. AV. y DE LOS CORRALES AV.</td>\n",
       "      <td>9</td>\n",
       "      <td>Point (95832.05571093 95505.41641999)</td>\n",
       "      <td>-58.50877521</td>\n",
       "      <td>-34.66977709</td>\n",
       "      <td>AUTO-PASAJEROS</td>\n",
       "      <td>AUTO</td>\n",
       "      <td>PASAJEROS</td>\n",
       "    </tr>\n",
       "    <tr>\n",
       "      <th>2</th>\n",
       "      <td>2016-0003</td>\n",
       "      <td>1</td>\n",
       "      <td>2016-01-03</td>\n",
       "      <td>2016</td>\n",
       "      <td>1</td>\n",
       "      <td>3</td>\n",
       "      <td>07:00:00</td>\n",
       "      <td>7</td>\n",
       "      <td>AV ENTRE RIOS 2034</td>\n",
       "      <td>AVENIDA</td>\n",
       "      <td>ENTRE RIOS AV.</td>\n",
       "      <td>2034.0</td>\n",
       "      <td>NaN</td>\n",
       "      <td>ENTRE RIOS AV. 2034</td>\n",
       "      <td>1</td>\n",
       "      <td>Point (106684.29090040 99706.57687843)</td>\n",
       "      <td>-58.39040293</td>\n",
       "      <td>-34.63189362</td>\n",
       "      <td>MOTO-AUTO</td>\n",
       "      <td>MOTO</td>\n",
       "      <td>AUTO</td>\n",
       "    </tr>\n",
       "    <tr>\n",
       "      <th>3</th>\n",
       "      <td>2016-0004</td>\n",
       "      <td>1</td>\n",
       "      <td>2016-01-10</td>\n",
       "      <td>2016</td>\n",
       "      <td>1</td>\n",
       "      <td>10</td>\n",
       "      <td>00:00:00</td>\n",
       "      <td>0</td>\n",
       "      <td>AV LARRAZABAL Y GRAL VILLEGAS CONRADO</td>\n",
       "      <td>AVENIDA</td>\n",
       "      <td>LARRAZABAL AV.</td>\n",
       "      <td>NaN</td>\n",
       "      <td>VILLEGAS, CONRADO, GRAL.</td>\n",
       "      <td>LARRAZABAL AV. y VILLEGAS, CONRADO, GRAL.</td>\n",
       "      <td>8</td>\n",
       "      <td>Point (99840.65224780 94269.16534422)</td>\n",
       "      <td>-58.46503904</td>\n",
       "      <td>-34.68092974</td>\n",
       "      <td>MOTO-SD</td>\n",
       "      <td>MOTO</td>\n",
       "      <td>SD</td>\n",
       "    </tr>\n",
       "    <tr>\n",
       "      <th>4</th>\n",
       "      <td>2016-0005</td>\n",
       "      <td>1</td>\n",
       "      <td>2016-01-21</td>\n",
       "      <td>2016</td>\n",
       "      <td>1</td>\n",
       "      <td>21</td>\n",
       "      <td>05:20:00</td>\n",
       "      <td>5</td>\n",
       "      <td>AV SAN JUAN Y PRESIDENTE LUIS SAENZ PEÑA</td>\n",
       "      <td>AVENIDA</td>\n",
       "      <td>SAN JUAN AV.</td>\n",
       "      <td>NaN</td>\n",
       "      <td>SAENZ PE?A, LUIS, PRES.</td>\n",
       "      <td>SAN JUAN AV. y SAENZ PEÃ‘A, LUIS, PRES.</td>\n",
       "      <td>1</td>\n",
       "      <td>Point (106980.32827929 100752.16915795)</td>\n",
       "      <td>-58.38718297</td>\n",
       "      <td>-34.62246630</td>\n",
       "      <td>MOTO-PASAJEROS</td>\n",
       "      <td>MOTO</td>\n",
       "      <td>PASAJEROS</td>\n",
       "    </tr>\n",
       "  </tbody>\n",
       "</table>\n",
       "</div>"
      ],
      "text/plain": [
       "          ID  N_VICTIMAS      FECHA  AAAA  MM  DD      HORA HH                            LUGAR_DEL_HECHO TIPO_DE_CALLE             Calle  Altura                                Cruce                              Dirección Normalizada  COMUNA                                XY (CABA)         pos x         pos y   PARTICIPANTES VICTIMA    ACUSADO\n",
       "0  2016-0001           1 2016-01-01  2016   1   1  04:00:00  4  AV PIEDRA BUENA Y AV FERNANDEZ DE LA CRUZ       AVENIDA  PIEDRA BUENA AV.     NaN  FERNANDEZ DE LA CRUZ, F., GRAL. AV.  PIEDRA BUENA AV. y FERNANDEZ DE LA CRUZ, F., G...       8    Point (98896.78238426 93532.43437792)  -58.47533969  -34.68757022       MOTO-AUTO    MOTO       AUTO\n",
       "1  2016-0002           1 2016-01-02  2016   1   2  01:15:00  1          AV GRAL PAZ  Y AV DE LOS CORRALES      GRAL PAZ    PAZ, GRAL. AV.     NaN                  DE LOS CORRALES AV.               PAZ, GRAL. AV. y DE LOS CORRALES AV.       9    Point (95832.05571093 95505.41641999)  -58.50877521  -34.66977709  AUTO-PASAJEROS    AUTO  PASAJEROS\n",
       "2  2016-0003           1 2016-01-03  2016   1   3  07:00:00  7                         AV ENTRE RIOS 2034       AVENIDA    ENTRE RIOS AV.  2034.0                                  NaN                                ENTRE RIOS AV. 2034       1   Point (106684.29090040 99706.57687843)  -58.39040293  -34.63189362       MOTO-AUTO    MOTO       AUTO\n",
       "3  2016-0004           1 2016-01-10  2016   1  10  00:00:00  0      AV LARRAZABAL Y GRAL VILLEGAS CONRADO       AVENIDA    LARRAZABAL AV.     NaN             VILLEGAS, CONRADO, GRAL.          LARRAZABAL AV. y VILLEGAS, CONRADO, GRAL.       8    Point (99840.65224780 94269.16534422)  -58.46503904  -34.68092974         MOTO-SD    MOTO         SD\n",
       "4  2016-0005           1 2016-01-21  2016   1  21  05:20:00  5  AV SAN JUAN Y PRESIDENTE LUIS SAENZ PEÑA        AVENIDA      SAN JUAN AV.     NaN              SAENZ PE?A, LUIS, PRES.            SAN JUAN AV. y SAENZ PEÃ‘A, LUIS, PRES.       1  Point (106980.32827929 100752.16915795)  -58.38718297  -34.62246630  MOTO-PASAJEROS    MOTO  PASAJEROS"
      ]
     },
     "execution_count": 93,
     "metadata": {},
     "output_type": "execute_result"
    }
   ],
   "source": [
    "df_homicidios_hechos.head(5)"
   ]
  },
  {
   "cell_type": "markdown",
   "metadata": {},
   "source": [
    "2. Descarte de columnas.\n",
    "voy a ir descartando columnas en la medida en la que me asegure que la informacion que contengan no sea la faltante de alguna columna que si utilice."
   ]
  },
  {
   "cell_type": "markdown",
   "metadata": {},
   "source": [
    "Vemos si a la columna 'FECHA' le hace falta algo que podamos deducir de las 3 columnas contiguas."
   ]
  },
  {
   "cell_type": "code",
   "execution_count": 94,
   "metadata": {},
   "outputs": [
    {
     "name": "stdout",
     "output_type": "stream",
     "text": [
      "La columna no tiene valores nulos.\n"
     ]
    }
   ],
   "source": [
    "# verificamos si la columna tiene algun valor nulo\n",
    "if df_homicidios_hechos['FECHA'].isnull().any():\n",
    "    print(\"La columna tiene al menos un valor nulo.\")\n",
    "else:\n",
    "    print(\"La columna no tiene valores nulos.\")"
   ]
  },
  {
   "cell_type": "code",
   "execution_count": 95,
   "metadata": {},
   "outputs": [
    {
     "name": "stdout",
     "output_type": "stream",
     "text": [
      "Todos los datos de la columna FECHA son de tipo datetime\n"
     ]
    }
   ],
   "source": [
    "# verificamos que todos los datos son de tipo datetime\n",
    "if f.columna_es_datetime(df_homicidios_hechos['FECHA']):\n",
    "    print('Todos los datos de la columna FECHA son de tipo datetime')\n",
    "else:\n",
    "    print('Al menos un dato de la columna FECHA no es de tipo datetime')"
   ]
  },
  {
   "cell_type": "markdown",
   "metadata": {},
   "source": [
    "Como la columna fecha no tiene ningún valor faltante, ni nan, ni nat, ni null, y tampoco contiene datos que no sean especificamente datetime, podemos concluir que los datos son consistentes y puedo eliminar las columnas AAAA, MM, DD, debido a que me significan una redundancia en los datos."
   ]
  },
  {
   "cell_type": "code",
   "execution_count": 96,
   "metadata": {},
   "outputs": [],
   "source": [
    "# eliminamos las columnas AAAA, MM, DD\n",
    "columnas_a_eliminar = ['AAAA', 'MM', 'DD']\n",
    "df_homicidios_hechos = df_homicidios_hechos.drop(columnas_a_eliminar, axis=1)"
   ]
  },
  {
   "cell_type": "markdown",
   "metadata": {},
   "source": [
    "vemos si a las columnas 'pos x' y 'pos y' les hace falta algo que podamos deducir de: 'LUGAR_DEL_HECHO', 'Calle', 'Altura', 'Dirección Normalizada', 'XY (CABA)'"
   ]
  },
  {
   "cell_type": "markdown",
   "metadata": {},
   "source": [
    "limpieza pos x"
   ]
  },
  {
   "cell_type": "code",
   "execution_count": 97,
   "metadata": {},
   "outputs": [
    {
     "name": "stdout",
     "output_type": "stream",
     "text": [
      "Error al convertir 'pos x' a tipo float: could not convert string to float: '.'\n"
     ]
    }
   ],
   "source": [
    "# al convertir una columna con datos de tipo latitud y longitud a float podremos ver que datos no satisfacen por lo menos ser numericos, estar separados por un punto, y que el primer caracter\n",
    "# sea numerico o un simbolo negativo\n",
    "try:\n",
    "    df_homicidios_hechos['pos x'] = df_homicidios_hechos['pos x'].astype(float, errors='raise')\n",
    "except ValueError as e:\n",
    "    print(f\"Error al convertir 'pos x' a tipo float: {e}\")\n"
   ]
  },
  {
   "cell_type": "markdown",
   "metadata": {},
   "source": [
    "Visualizamos datos en forma de '.' los cuales reemplazaremos con NaN"
   ]
  },
  {
   "cell_type": "code",
   "execution_count": 98,
   "metadata": {},
   "outputs": [],
   "source": [
    "df_homicidios_hechos['pos x'] = df_homicidios_hechos['pos x'].replace('.', np.nan)"
   ]
  },
  {
   "cell_type": "code",
   "execution_count": 99,
   "metadata": {},
   "outputs": [
    {
     "name": "stdout",
     "output_type": "stream",
     "text": [
      "los datos han sido convertidos a tipo float correctamente\n"
     ]
    }
   ],
   "source": [
    "try:\n",
    "    df_homicidios_hechos['pos x'] = df_homicidios_hechos['pos x'].astype(float, errors='raise')\n",
    "    print('los datos han sido convertidos a tipo float correctamente')\n",
    "except ValueError as e:\n",
    "    print(f\"Error al convertir 'pos x' a tipo float: {e}\")"
   ]
  },
  {
   "cell_type": "markdown",
   "metadata": {},
   "source": [
    "limpieza 'pos y'"
   ]
  },
  {
   "cell_type": "code",
   "execution_count": 100,
   "metadata": {},
   "outputs": [
    {
     "name": "stdout",
     "output_type": "stream",
     "text": [
      "Error al convertir 'pos y' a tipo float: could not convert string to float: '.'\n"
     ]
    }
   ],
   "source": [
    "try:\n",
    "    df_homicidios_hechos['pos y'] = df_homicidios_hechos['pos y'].astype(float, errors='raise')\n",
    "except ValueError as e:\n",
    "    print(f\"Error al convertir 'pos y' a tipo float: {e}\")"
   ]
  },
  {
   "cell_type": "markdown",
   "metadata": {},
   "source": [
    "visualizamos el mismo problema, repetimos los pasos"
   ]
  },
  {
   "cell_type": "code",
   "execution_count": 101,
   "metadata": {},
   "outputs": [],
   "source": [
    "df_homicidios_hechos['pos y'] = df_homicidios_hechos['pos y'].replace('.', np.nan)"
   ]
  },
  {
   "cell_type": "code",
   "execution_count": 102,
   "metadata": {},
   "outputs": [],
   "source": [
    "try:\n",
    "    df_homicidios_hechos['pos y'] = df_homicidios_hechos['pos y'].astype(float, errors='raise')\n",
    "except ValueError as e:\n",
    "    print(f\"Error al convertir 'pos y' a tipo float: {e}\")"
   ]
  },
  {
   "cell_type": "markdown",
   "metadata": {},
   "source": [
    "Una vez que los datos los tenemos, o en forma de float (y muy probablemente sean coordenadas validas) o en forma de NaN, procedemos a ver los registros que en 'pos x' y 'pox y' sean NaN, y si podemos rescatar esta info de las columnas que ya mencionamos anteriormente"
   ]
  },
  {
   "cell_type": "code",
   "execution_count": 103,
   "metadata": {},
   "outputs": [
    {
     "data": {
      "text/html": [
       "<div>\n",
       "<style scoped>\n",
       "    .dataframe tbody tr th:only-of-type {\n",
       "        vertical-align: middle;\n",
       "    }\n",
       "\n",
       "    .dataframe tbody tr th {\n",
       "        vertical-align: top;\n",
       "    }\n",
       "\n",
       "    .dataframe thead th {\n",
       "        text-align: right;\n",
       "    }\n",
       "</style>\n",
       "<table border=\"1\" class=\"dataframe\">\n",
       "  <thead>\n",
       "    <tr style=\"text-align: right;\">\n",
       "      <th></th>\n",
       "      <th>LUGAR_DEL_HECHO</th>\n",
       "      <th>TIPO_DE_CALLE</th>\n",
       "      <th>Calle</th>\n",
       "      <th>Altura</th>\n",
       "      <th>Dirección Normalizada</th>\n",
       "      <th>COMUNA</th>\n",
       "      <th>pos x</th>\n",
       "      <th>pos y</th>\n",
       "    </tr>\n",
       "  </thead>\n",
       "  <tbody>\n",
       "    <tr>\n",
       "      <th>38</th>\n",
       "      <td>AUTOPISTA LUGONES PK 10000</td>\n",
       "      <td>AUTOPISTA</td>\n",
       "      <td>LUGONES, LEOPOLDO AV.</td>\n",
       "      <td>NaN</td>\n",
       "      <td>NaN</td>\n",
       "      <td>13</td>\n",
       "      <td>NaN</td>\n",
       "      <td>NaN</td>\n",
       "    </tr>\n",
       "    <tr>\n",
       "      <th>106</th>\n",
       "      <td>AU BUENOS AIRES - LA PLATA KM. 4</td>\n",
       "      <td>AUTOPISTA</td>\n",
       "      <td>AUTOPISTA BUENOS AIRES - LA PLATA</td>\n",
       "      <td>NaN</td>\n",
       "      <td>NaN</td>\n",
       "      <td>4</td>\n",
       "      <td>NaN</td>\n",
       "      <td>NaN</td>\n",
       "    </tr>\n",
       "    <tr>\n",
       "      <th>119</th>\n",
       "      <td>SD</td>\n",
       "      <td>CALLE</td>\n",
       "      <td>NaN</td>\n",
       "      <td>NaN</td>\n",
       "      <td>NaN</td>\n",
       "      <td>0</td>\n",
       "      <td>NaN</td>\n",
       "      <td>NaN</td>\n",
       "    </tr>\n",
       "    <tr>\n",
       "      <th>139</th>\n",
       "      <td>AUTOPISTA 25 DE MAYO</td>\n",
       "      <td>AUTOPISTA</td>\n",
       "      <td>AUTOPISTA 25 DE MAYO</td>\n",
       "      <td>NaN</td>\n",
       "      <td>AUTOPISTA 25 DE MAYO</td>\n",
       "      <td>0</td>\n",
       "      <td>NaN</td>\n",
       "      <td>NaN</td>\n",
       "    </tr>\n",
       "    <tr>\n",
       "      <th>176</th>\n",
       "      <td>AV. LEOPOLDO LUGONES PKM 6900</td>\n",
       "      <td>GRAL PAZ</td>\n",
       "      <td>LUGONES, LEOPOLDO AV.</td>\n",
       "      <td>NaN</td>\n",
       "      <td>LUGONES, LEOPOLDO AV.</td>\n",
       "      <td>14</td>\n",
       "      <td>NaN</td>\n",
       "      <td>NaN</td>\n",
       "    </tr>\n",
       "    <tr>\n",
       "      <th>180</th>\n",
       "      <td>AU PERITO MORENO Y RAMAL ENLACE AU1/AU6</td>\n",
       "      <td>AUTOPISTA</td>\n",
       "      <td>AUTOPISTA PERITO MORENO</td>\n",
       "      <td>NaN</td>\n",
       "      <td>NaN</td>\n",
       "      <td>9</td>\n",
       "      <td>NaN</td>\n",
       "      <td>NaN</td>\n",
       "    </tr>\n",
       "    <tr>\n",
       "      <th>181</th>\n",
       "      <td>AU DELLEPIANE 2400</td>\n",
       "      <td>AUTOPISTA</td>\n",
       "      <td>AUTOPISTA DELLEPIANE LUIS TTE. GRAL.</td>\n",
       "      <td>NaN</td>\n",
       "      <td>NaN</td>\n",
       "      <td>7</td>\n",
       "      <td>NaN</td>\n",
       "      <td>NaN</td>\n",
       "    </tr>\n",
       "    <tr>\n",
       "      <th>256</th>\n",
       "      <td>AU ARTURO FRONDIZI PKM 3100</td>\n",
       "      <td>AUTOPISTA</td>\n",
       "      <td>AUTOPISTA 1 SUR PRESIDENTE ARTURO FRONDIZI</td>\n",
       "      <td>NaN</td>\n",
       "      <td>AUTOPISTA 1 SUR PRESIDENTE ARTURO FRONDIZI</td>\n",
       "      <td>4</td>\n",
       "      <td>NaN</td>\n",
       "      <td>NaN</td>\n",
       "    </tr>\n",
       "    <tr>\n",
       "      <th>313</th>\n",
       "      <td>AUTOPISTA LUGONES KM 4.7</td>\n",
       "      <td>AUTOPISTA</td>\n",
       "      <td>LUGONES, LEOPOLDO AV.</td>\n",
       "      <td>NaN</td>\n",
       "      <td>NaN</td>\n",
       "      <td>14</td>\n",
       "      <td>NaN</td>\n",
       "      <td>NaN</td>\n",
       "    </tr>\n",
       "    <tr>\n",
       "      <th>546</th>\n",
       "      <td>LUGONES, LEOPOLDO AV. KM 6,1</td>\n",
       "      <td>AUTOPISTA</td>\n",
       "      <td>LUGONES, LEOPOLDO AV.</td>\n",
       "      <td>NaN</td>\n",
       "      <td>NaN</td>\n",
       "      <td>14</td>\n",
       "      <td>NaN</td>\n",
       "      <td>NaN</td>\n",
       "    </tr>\n",
       "    <tr>\n",
       "      <th>559</th>\n",
       "      <td>MURGUIONDO 2700</td>\n",
       "      <td>CALLE</td>\n",
       "      <td>MURGUIONDO</td>\n",
       "      <td>NaN</td>\n",
       "      <td>MURGUIONDO</td>\n",
       "      <td>9</td>\n",
       "      <td>NaN</td>\n",
       "      <td>NaN</td>\n",
       "    </tr>\n",
       "    <tr>\n",
       "      <th>621</th>\n",
       "      <td>AU BUENOS AIRES LA PLATA  KM 4,5</td>\n",
       "      <td>AUTOPISTA</td>\n",
       "      <td>AUTOPISTA BUENOS AIRES - LA PLATA</td>\n",
       "      <td>NaN</td>\n",
       "      <td>NaN</td>\n",
       "      <td>4</td>\n",
       "      <td>NaN</td>\n",
       "      <td>NaN</td>\n",
       "    </tr>\n",
       "  </tbody>\n",
       "</table>\n",
       "</div>"
      ],
      "text/plain": [
       "                             LUGAR_DEL_HECHO TIPO_DE_CALLE                                       Calle  Altura                       Dirección Normalizada  COMUNA  pos x  pos y\n",
       "38                AUTOPISTA LUGONES PK 10000     AUTOPISTA                       LUGONES, LEOPOLDO AV.     NaN                                         NaN      13    NaN    NaN\n",
       "106         AU BUENOS AIRES - LA PLATA KM. 4     AUTOPISTA           AUTOPISTA BUENOS AIRES - LA PLATA     NaN                                         NaN       4    NaN    NaN\n",
       "119                                       SD         CALLE                                         NaN     NaN                                         NaN       0    NaN    NaN\n",
       "139                     AUTOPISTA 25 DE MAYO     AUTOPISTA                        AUTOPISTA 25 DE MAYO     NaN                        AUTOPISTA 25 DE MAYO       0    NaN    NaN\n",
       "176            AV. LEOPOLDO LUGONES PKM 6900      GRAL PAZ                       LUGONES, LEOPOLDO AV.     NaN                       LUGONES, LEOPOLDO AV.      14    NaN    NaN\n",
       "180  AU PERITO MORENO Y RAMAL ENLACE AU1/AU6     AUTOPISTA                     AUTOPISTA PERITO MORENO     NaN                                         NaN       9    NaN    NaN\n",
       "181                       AU DELLEPIANE 2400     AUTOPISTA        AUTOPISTA DELLEPIANE LUIS TTE. GRAL.     NaN                                         NaN       7    NaN    NaN\n",
       "256              AU ARTURO FRONDIZI PKM 3100     AUTOPISTA  AUTOPISTA 1 SUR PRESIDENTE ARTURO FRONDIZI     NaN  AUTOPISTA 1 SUR PRESIDENTE ARTURO FRONDIZI       4    NaN    NaN\n",
       "313                 AUTOPISTA LUGONES KM 4.7     AUTOPISTA                       LUGONES, LEOPOLDO AV.     NaN                                         NaN      14    NaN    NaN\n",
       "546             LUGONES, LEOPOLDO AV. KM 6,1     AUTOPISTA                       LUGONES, LEOPOLDO AV.     NaN                                         NaN      14    NaN    NaN\n",
       "559                          MURGUIONDO 2700         CALLE                                  MURGUIONDO     NaN                                  MURGUIONDO       9    NaN    NaN\n",
       "621         AU BUENOS AIRES LA PLATA  KM 4,5     AUTOPISTA           AUTOPISTA BUENOS AIRES - LA PLATA     NaN                                         NaN       4    NaN    NaN"
      ]
     },
     "execution_count": 103,
     "metadata": {},
     "output_type": "execute_result"
    }
   ],
   "source": [
    "# Filtrar el DataFrame para obtener las filas con NaN en ambas 'pos x' y 'pos y'\n",
    "filas_con_nan = df_homicidios_hechos[df_homicidios_hechos['pos x'].isna() & df_homicidios_hechos['pos y'].isna()]\n",
    "\n",
    "# Mostrar el resultado filtrando unicamente con los campos de los cuales podemos extraer info\n",
    "filas_con_nan[['LUGAR_DEL_HECHO','TIPO_DE_CALLE','Calle','Altura','Dirección Normalizada','COMUNA','pos x','pos y']]"
   ]
  },
  {
   "cell_type": "code",
   "execution_count": 104,
   "metadata": {},
   "outputs": [
    {
     "name": "stdout",
     "output_type": "stream",
     "text": [
      "Latitud: -34.66337, Longitud: -58.4932488\n"
     ]
    }
   ],
   "source": [
    "geolocalizador = Nominatim(user_agent=\"mi_aplicacion\")\n",
    "direccion = \"MURGUIONDO 2700\"\n",
    "\n",
    "ubicacion = geolocalizador.geocode(direccion)\n",
    "\n",
    "if ubicacion:\n",
    "    print(f\"Latitud: {ubicacion.latitude}, Longitud: {ubicacion.longitude}\")\n",
    "else:\n",
    "    print(\"No se pudo obtener la latitud y longitud.\")"
   ]
  }
 ],
 "metadata": {
  "kernelspec": {
   "display_name": "Python 3",
   "language": "python",
   "name": "python3"
  },
  "language_info": {
   "codemirror_mode": {
    "name": "ipython",
    "version": 3
   },
   "file_extension": ".py",
   "mimetype": "text/x-python",
   "name": "python",
   "nbconvert_exporter": "python",
   "pygments_lexer": "ipython3",
   "version": "3.11.3"
  }
 },
 "nbformat": 4,
 "nbformat_minor": 2
}
